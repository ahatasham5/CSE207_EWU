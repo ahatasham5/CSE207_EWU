{
  "nbformat": 4,
  "nbformat_minor": 0,
  "metadata": {
    "colab": {
      "provenance": [],
      "authorship_tag": "ABX9TyObif3VKbHbIeVApvlhIzsL",
      "include_colab_link": true
    },
    "kernelspec": {
      "name": "python3",
      "display_name": "Python 3"
    },
    "language_info": {
      "name": "python"
    }
  },
  "cells": [
    {
      "cell_type": "markdown",
      "metadata": {
        "id": "view-in-github",
        "colab_type": "text"
      },
      "source": [
        "<a href=\"https://colab.research.google.com/github/ahatasham5/CSE207_EWU/blob/main/CSE207_lab1.ipynb\" target=\"_parent\"><img src=\"https://colab.research.google.com/assets/colab-badge.svg\" alt=\"Open In Colab\"/></a>"
      ]
    },
    {
      "cell_type": "code",
      "execution_count": 5,
      "metadata": {
        "colab": {
          "base_uri": "https://localhost:8080/"
        },
        "id": "LOlnhoN2sb_t",
        "outputId": "156e7ace-f5e9-4064-e615-ca93282f375b"
      },
      "outputs": [
        {
          "output_type": "stream",
          "name": "stdout",
          "text": [
            "0\n",
            "1\n",
            "2\n",
            "3\n",
            "4\n",
            "5\n",
            "6\n",
            "7\n"
          ]
        }
      ],
      "source": [
        "arr = [0] * 8\n",
        "for i in range(8):\n",
        "    arr[i] = i\n",
        "    print(arr[i])"
      ]
    },
    {
      "cell_type": "markdown",
      "source": [
        "arr = [0, 0, 0, 0, 0, 0, 0, 0]\n",
        "\n",
        "<p>Here it is equvalent of </p>\n",
        "\n",
        "arr = [0] * 8\n",
        "\n",
        "\n",
        "\n"
      ],
      "metadata": {
        "id": "NArBs6FwvhVw"
      }
    },
    {
      "cell_type": "code",
      "source": [
        "for i in range(8):\n",
        "    arr[i] = i\n",
        "    if i%2 == 0:\n",
        "      print(arr[i])\n",
        "    #print(arr[i])"
      ],
      "metadata": {
        "colab": {
          "base_uri": "https://localhost:8080/"
        },
        "id": "ixx3YffluatJ",
        "outputId": "adb15bcc-4ea0-44a3-d893-47c68296a7b9"
      },
      "execution_count": 6,
      "outputs": [
        {
          "output_type": "stream",
          "name": "stdout",
          "text": [
            "0\n",
            "2\n",
            "4\n",
            "6\n"
          ]
        }
      ]
    }
  ]
}