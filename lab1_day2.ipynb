{
  "nbformat": 4,
  "nbformat_minor": 0,
  "metadata": {
    "colab": {
      "provenance": [],
      "authorship_tag": "ABX9TyPLpNlOMQjeIYA5SgAjcwpu",
      "include_colab_link": true
    },
    "kernelspec": {
      "name": "python3",
      "display_name": "Python 3"
    },
    "language_info": {
      "name": "python"
    }
  },
  "cells": [
    {
      "cell_type": "markdown",
      "metadata": {
        "id": "view-in-github",
        "colab_type": "text"
      },
      "source": [
        "<a href=\"https://colab.research.google.com/github/ahatasham5/CSE207_EWU/blob/main/lab1_day2.ipynb\" target=\"_parent\"><img src=\"https://colab.research.google.com/assets/colab-badge.svg\" alt=\"Open In Colab\"/></a>"
      ]
    },
    {
      "cell_type": "code",
      "execution_count": 1,
      "metadata": {
        "colab": {
          "base_uri": "https://localhost:8080/"
        },
        "id": "U4n6MAor1O-7",
        "outputId": "9f8b3ac7-0e56-4457-cc5e-b157a5216188"
      },
      "outputs": [
        {
          "output_type": "stream",
          "name": "stdout",
          "text": [
            "Enter the number of elements in the list: 5\n",
            "Enter 5 elements:\n",
            "2\n",
            "1\n",
            "3\n",
            "4\n",
            "5\n",
            "Maximum value: 5 at index 4\n",
            "Minimum value: 1 at index 1\n"
          ]
        }
      ],
      "source": [
        "# Input: Get the list of numbers from the user\n",
        "n = int(input(\"Enter the number of elements in the list: \"))\n",
        "arr = [] # it is a list\n",
        "\n",
        "print(f\"Enter {n} elements:\")\n",
        "for _ in range(n):\n",
        "    arr.append(int(input()))\n",
        "\n",
        "# Find maximum and minimum values and their indices\n",
        "max_value = max(arr)\n",
        "min_value = min(arr)\n",
        "max_index = arr.index(max_value) # Here .index is builtin method\n",
        "min_index = arr.index(min_value)\n",
        "\n",
        "# Output the results\n",
        "print(f\"Maximum value: {max_value} at index {max_index}\")\n",
        "print(f\"Minimum value: {min_value} at index {min_index}\")\n"
      ]
    }
  ]
}